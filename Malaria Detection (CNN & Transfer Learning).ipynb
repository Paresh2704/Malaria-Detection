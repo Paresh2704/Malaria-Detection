{
 "cells": [
  {
   "cell_type": "markdown",
   "metadata": {},
   "source": [
    "### Creating CNN Using Scratch And Transfer Learning"
   ]
  },
  {
   "cell_type": "code",
   "execution_count": 1,
   "metadata": {},
   "outputs": [
    {
     "data": {
      "text/plain": [
       "'\\nContent\\nThe dataset contains 2 folders\\n\\nInfected\\nUninfected\\nAnd a total of 27,558 images.\\nAcknowledgements\\nThis Dataset is taken from the official NIH Website: https://ceb.nlm.nih.gov/repositories/malaria-datasets/\\nAnd uploaded here, so anybody trying to start working with this dataset can get started immediately, as to download the\\ndataset from NIH website is quite slow.\\nPhoto by Егор Камелев on Unsplash\\nhttps://unsplash.com/@ekamelev\\n\\nInspiration\\nSave humans by detecting and deploying Image Cells that contain Malaria or not!\\n'"
      ]
     },
     "execution_count": 1,
     "metadata": {},
     "output_type": "execute_result"
    }
   ],
   "source": [
    "\"\"\"\n",
    "Content\n",
    "The dataset contains 2 folders\n",
    "\n",
    "Infected\n",
    "Uninfected\n",
    "And a total of 27,558 images.\n",
    "Acknowledgements\n",
    "This Dataset is taken from the official NIH Website: https://ceb.nlm.nih.gov/repositories/malaria-datasets/\n",
    "And uploaded here, so anybody trying to start working with this dataset can get started immediately, as to download the\n",
    "dataset from NIH website is quite slow.\n",
    "Photo by Егор Камелев on Unsplash\n",
    "https://unsplash.com/@ekamelev\n",
    "\n",
    "Inspiration\n",
    "Save humans by detecting and deploying Image Cells that contain Malaria or not!\n",
    "\"\"\""
   ]
  },
  {
   "cell_type": "code",
   "execution_count": 17,
   "metadata": {},
   "outputs": [],
   "source": [
    "# import the libraries as shown below\n",
    "\n",
    "from tensorflow.keras.layers import Input, Lambda, Dense, Flatten,Conv2D\n",
    "from tensorflow.keras.models import Model\n",
    "from tensorflow.keras.applications.vgg19 import VGG19\n",
    "from tensorflow.keras.applications.resnet50 import preprocess_input\n",
    "from tensorflow.keras.preprocessing import image\n",
    "from tensorflow.keras.preprocessing.image import ImageDataGenerator,load_img\n",
    "from tensorflow.keras.models import Sequential\n",
    "import numpy as np\n",
    "from glob import glob\n",
    "import matplotlib.pyplot as plt"
   ]
  },
  {
   "cell_type": "code",
   "execution_count": 18,
   "metadata": {},
   "outputs": [],
   "source": [
    "import tensorflow as tf"
   ]
  },
  {
   "cell_type": "code",
   "execution_count": 19,
   "metadata": {},
   "outputs": [
    {
     "name": "stdout",
     "output_type": "stream",
     "text": [
      "2.5.0\n"
     ]
    }
   ],
   "source": [
    "print(tf.__version__)"
   ]
  },
  {
   "cell_type": "code",
   "execution_count": 28,
   "metadata": {},
   "outputs": [],
   "source": [
    "# re-size all the images to this\n",
    "IMAGE_SIZE = [224, 224]\n",
    "\n",
    "train_path = 'Dataset/Train'\n",
    "valid_path = 'Dataset/Test'"
   ]
  },
  {
   "cell_type": "code",
   "execution_count": 29,
   "metadata": {},
   "outputs": [],
   "source": [
    "# Import the Vgg 16 library as shown below and add preprocessing layer to the front of VGG\n",
    "# Here we will be using imagenet weights\n",
    "\n",
    "vgg19 = VGG19(input_shape=IMAGE_SIZE + [3], weights='imagenet', include_top=False)"
   ]
  },
  {
   "cell_type": "code",
   "execution_count": 30,
   "metadata": {},
   "outputs": [
    {
     "name": "stdout",
     "output_type": "stream",
     "text": [
      "Model: \"vgg19\"\n",
      "_________________________________________________________________\n",
      "Layer (type)                 Output Shape              Param #   \n",
      "=================================================================\n",
      "input_5 (InputLayer)         [(None, 224, 224, 3)]     0         \n",
      "_________________________________________________________________\n",
      "block1_conv1 (Conv2D)        (None, 224, 224, 64)      1792      \n",
      "_________________________________________________________________\n",
      "block1_conv2 (Conv2D)        (None, 224, 224, 64)      36928     \n",
      "_________________________________________________________________\n",
      "block1_pool (MaxPooling2D)   (None, 112, 112, 64)      0         \n",
      "_________________________________________________________________\n",
      "block2_conv1 (Conv2D)        (None, 112, 112, 128)     73856     \n",
      "_________________________________________________________________\n",
      "block2_conv2 (Conv2D)        (None, 112, 112, 128)     147584    \n",
      "_________________________________________________________________\n",
      "block2_pool (MaxPooling2D)   (None, 56, 56, 128)       0         \n",
      "_________________________________________________________________\n",
      "block3_conv1 (Conv2D)        (None, 56, 56, 256)       295168    \n",
      "_________________________________________________________________\n",
      "block3_conv2 (Conv2D)        (None, 56, 56, 256)       590080    \n",
      "_________________________________________________________________\n",
      "block3_conv3 (Conv2D)        (None, 56, 56, 256)       590080    \n",
      "_________________________________________________________________\n",
      "block3_conv4 (Conv2D)        (None, 56, 56, 256)       590080    \n",
      "_________________________________________________________________\n",
      "block3_pool (MaxPooling2D)   (None, 28, 28, 256)       0         \n",
      "_________________________________________________________________\n",
      "block4_conv1 (Conv2D)        (None, 28, 28, 512)       1180160   \n",
      "_________________________________________________________________\n",
      "block4_conv2 (Conv2D)        (None, 28, 28, 512)       2359808   \n",
      "_________________________________________________________________\n",
      "block4_conv3 (Conv2D)        (None, 28, 28, 512)       2359808   \n",
      "_________________________________________________________________\n",
      "block4_conv4 (Conv2D)        (None, 28, 28, 512)       2359808   \n",
      "_________________________________________________________________\n",
      "block4_pool (MaxPooling2D)   (None, 14, 14, 512)       0         \n",
      "_________________________________________________________________\n",
      "block5_conv1 (Conv2D)        (None, 14, 14, 512)       2359808   \n",
      "_________________________________________________________________\n",
      "block5_conv2 (Conv2D)        (None, 14, 14, 512)       2359808   \n",
      "_________________________________________________________________\n",
      "block5_conv3 (Conv2D)        (None, 14, 14, 512)       2359808   \n",
      "_________________________________________________________________\n",
      "block5_conv4 (Conv2D)        (None, 14, 14, 512)       2359808   \n",
      "_________________________________________________________________\n",
      "block5_pool (MaxPooling2D)   (None, 7, 7, 512)         0         \n",
      "=================================================================\n",
      "Total params: 20,024,384\n",
      "Trainable params: 20,024,384\n",
      "Non-trainable params: 0\n",
      "_________________________________________________________________\n"
     ]
    }
   ],
   "source": [
    "vgg19.summary()"
   ]
  },
  {
   "cell_type": "code",
   "execution_count": 34,
   "metadata": {},
   "outputs": [],
   "source": [
    "# don't train existing weights\n",
    "for layer in vgg19.layers:\n",
    "    layer.trainable = False"
   ]
  },
  {
   "cell_type": "code",
   "execution_count": 69,
   "metadata": {},
   "outputs": [],
   "source": [
    "# useful for getting number of output classes\n",
    "folders = glob('D:/Imarticus learning/Project/Image Classification/Malaria Detection/Dataset/Train/*')"
   ]
  },
  {
   "cell_type": "code",
   "execution_count": 70,
   "metadata": {},
   "outputs": [
    {
     "data": {
      "text/plain": [
       "['D:/Imarticus learning/Project/Image Classification/Malaria Detection/Dataset/Train\\\\Parasite',\n",
       " 'D:/Imarticus learning/Project/Image Classification/Malaria Detection/Dataset/Train\\\\Uninfected']"
      ]
     },
     "execution_count": 70,
     "metadata": {},
     "output_type": "execute_result"
    }
   ],
   "source": [
    "folders"
   ]
  },
  {
   "cell_type": "code",
   "execution_count": 59,
   "metadata": {},
   "outputs": [],
   "source": [
    "# our layers - you can add more if you want\n",
    "x = Flatten()(vgg19.output)"
   ]
  },
  {
   "cell_type": "code",
   "execution_count": 60,
   "metadata": {},
   "outputs": [],
   "source": [
    "prediction = Dense(len(folders), activation='softmax')(x)\n",
    "\n",
    "# create a model object\n",
    "model = Model(inputs=vgg19.input, outputs=prediction)"
   ]
  },
  {
   "cell_type": "code",
   "execution_count": 61,
   "metadata": {},
   "outputs": [
    {
     "name": "stdout",
     "output_type": "stream",
     "text": [
      "Model: \"model_3\"\n",
      "_________________________________________________________________\n",
      "Layer (type)                 Output Shape              Param #   \n",
      "=================================================================\n",
      "input_5 (InputLayer)         [(None, 224, 224, 3)]     0         \n",
      "_________________________________________________________________\n",
      "block1_conv1 (Conv2D)        (None, 224, 224, 64)      1792      \n",
      "_________________________________________________________________\n",
      "block1_conv2 (Conv2D)        (None, 224, 224, 64)      36928     \n",
      "_________________________________________________________________\n",
      "block1_pool (MaxPooling2D)   (None, 112, 112, 64)      0         \n",
      "_________________________________________________________________\n",
      "block2_conv1 (Conv2D)        (None, 112, 112, 128)     73856     \n",
      "_________________________________________________________________\n",
      "block2_conv2 (Conv2D)        (None, 112, 112, 128)     147584    \n",
      "_________________________________________________________________\n",
      "block2_pool (MaxPooling2D)   (None, 56, 56, 128)       0         \n",
      "_________________________________________________________________\n",
      "block3_conv1 (Conv2D)        (None, 56, 56, 256)       295168    \n",
      "_________________________________________________________________\n",
      "block3_conv2 (Conv2D)        (None, 56, 56, 256)       590080    \n",
      "_________________________________________________________________\n",
      "block3_conv3 (Conv2D)        (None, 56, 56, 256)       590080    \n",
      "_________________________________________________________________\n",
      "block3_conv4 (Conv2D)        (None, 56, 56, 256)       590080    \n",
      "_________________________________________________________________\n",
      "block3_pool (MaxPooling2D)   (None, 28, 28, 256)       0         \n",
      "_________________________________________________________________\n",
      "block4_conv1 (Conv2D)        (None, 28, 28, 512)       1180160   \n",
      "_________________________________________________________________\n",
      "block4_conv2 (Conv2D)        (None, 28, 28, 512)       2359808   \n",
      "_________________________________________________________________\n",
      "block4_conv3 (Conv2D)        (None, 28, 28, 512)       2359808   \n",
      "_________________________________________________________________\n",
      "block4_conv4 (Conv2D)        (None, 28, 28, 512)       2359808   \n",
      "_________________________________________________________________\n",
      "block4_pool (MaxPooling2D)   (None, 14, 14, 512)       0         \n",
      "_________________________________________________________________\n",
      "block5_conv1 (Conv2D)        (None, 14, 14, 512)       2359808   \n",
      "_________________________________________________________________\n",
      "block5_conv2 (Conv2D)        (None, 14, 14, 512)       2359808   \n",
      "_________________________________________________________________\n",
      "block5_conv3 (Conv2D)        (None, 14, 14, 512)       2359808   \n",
      "_________________________________________________________________\n",
      "block5_conv4 (Conv2D)        (None, 14, 14, 512)       2359808   \n",
      "_________________________________________________________________\n",
      "block5_pool (MaxPooling2D)   (None, 7, 7, 512)         0         \n",
      "_________________________________________________________________\n",
      "flatten_4 (Flatten)          (None, 25088)             0         \n",
      "_________________________________________________________________\n",
      "dense_7 (Dense)              (None, 2)                 50178     \n",
      "=================================================================\n",
      "Total params: 20,074,562\n",
      "Trainable params: 50,178\n",
      "Non-trainable params: 20,024,384\n",
      "_________________________________________________________________\n"
     ]
    }
   ],
   "source": [
    "# view the structure of the model\n",
    "model.summary()"
   ]
  },
  {
   "cell_type": "code",
   "execution_count": 62,
   "metadata": {},
   "outputs": [],
   "source": [
    "from tensorflow.keras.layers import MaxPooling2D"
   ]
  },
  {
   "cell_type": "code",
   "execution_count": 63,
   "metadata": {},
   "outputs": [
    {
     "name": "stdout",
     "output_type": "stream",
     "text": [
      "Model: \"sequential_2\"\n",
      "_________________________________________________________________\n",
      "Layer (type)                 Output Shape              Param #   \n",
      "=================================================================\n",
      "conv2d_6 (Conv2D)            (None, 224, 224, 16)      208       \n",
      "_________________________________________________________________\n",
      "max_pooling2d_6 (MaxPooling2 (None, 112, 112, 16)      0         \n",
      "_________________________________________________________________\n",
      "conv2d_7 (Conv2D)            (None, 112, 112, 32)      2080      \n",
      "_________________________________________________________________\n",
      "max_pooling2d_7 (MaxPooling2 (None, 56, 56, 32)        0         \n",
      "_________________________________________________________________\n",
      "conv2d_8 (Conv2D)            (None, 56, 56, 64)        8256      \n",
      "_________________________________________________________________\n",
      "max_pooling2d_8 (MaxPooling2 (None, 28, 28, 64)        0         \n",
      "_________________________________________________________________\n",
      "flatten_5 (Flatten)          (None, 50176)             0         \n",
      "_________________________________________________________________\n",
      "dense_8 (Dense)              (None, 500)               25088500  \n",
      "_________________________________________________________________\n",
      "dense_9 (Dense)              (None, 2)                 1002      \n",
      "=================================================================\n",
      "Total params: 25,100,046\n",
      "Trainable params: 25,100,046\n",
      "Non-trainable params: 0\n",
      "_________________________________________________________________\n"
     ]
    }
   ],
   "source": [
    "### Create Model from scratch using CNN\n",
    "model=Sequential()\n",
    "model.add(Conv2D(filters=16,kernel_size=2,padding=\"same\",activation=\"relu\",input_shape=(224,224,3)))\n",
    "model.add(MaxPooling2D(pool_size=2))\n",
    "model.add(Conv2D(filters=32,kernel_size=2,padding=\"same\",activation =\"relu\"))\n",
    "model.add(MaxPooling2D(pool_size=2))\n",
    "model.add(Conv2D(filters=64,kernel_size=2,padding=\"same\",activation=\"relu\"))\n",
    "model.add(MaxPooling2D(pool_size=2))\n",
    "model.add(Flatten())\n",
    "model.add(Dense(500,activation=\"relu\"))\n",
    "model.add(Dense(2,activation=\"softmax\"))\n",
    "model.summary()"
   ]
  },
  {
   "cell_type": "code",
   "execution_count": 64,
   "metadata": {},
   "outputs": [],
   "source": [
    "# tell the model what cost and optimization method to use\n",
    "model.compile(\n",
    "  loss='categorical_crossentropy',\n",
    "  optimizer='adam',\n",
    "  metrics=['accuracy']\n",
    ")"
   ]
  },
  {
   "cell_type": "code",
   "execution_count": 65,
   "metadata": {},
   "outputs": [],
   "source": [
    "# Use the Image Data Generator to import the images from the dataset\n",
    "from tensorflow.keras.preprocessing.image import ImageDataGenerator\n",
    "\n",
    "train_datagen = ImageDataGenerator(rescale = 1./255,\n",
    "                                   shear_range = 0.2,\n",
    "                                   zoom_range = 0.2,\n",
    "                                   horizontal_flip = True)\n",
    "\n",
    "test_datagen = ImageDataGenerator(rescale = 1./255)"
   ]
  },
  {
   "cell_type": "code",
   "execution_count": 71,
   "metadata": {},
   "outputs": [
    {
     "name": "stdout",
     "output_type": "stream",
     "text": [
      "Found 416 images belonging to 2 classes.\n"
     ]
    }
   ],
   "source": [
    "# Make sure you provide the same target size as initialied for the image size\n",
    "training_set = train_datagen.flow_from_directory('D:/Imarticus learning/Project/Image Classification/Malaria Detection/Dataset/Train',\n",
    "                                                 target_size = (224, 224),\n",
    "                                                 batch_size = 32,\n",
    "                                                 class_mode = 'categorical')"
   ]
  },
  {
   "cell_type": "code",
   "execution_count": 72,
   "metadata": {},
   "outputs": [
    {
     "data": {
      "text/plain": [
       "<tensorflow.python.keras.preprocessing.image.DirectoryIterator at 0x275097c5220>"
      ]
     },
     "execution_count": 72,
     "metadata": {},
     "output_type": "execute_result"
    }
   ],
   "source": [
    "training_set"
   ]
  },
  {
   "cell_type": "code",
   "execution_count": 74,
   "metadata": {},
   "outputs": [
    {
     "name": "stdout",
     "output_type": "stream",
     "text": [
      "Found 134 images belonging to 2 classes.\n"
     ]
    }
   ],
   "source": [
    "test_set = test_datagen.flow_from_directory('D:/Imarticus learning/Project/Image Classification/Malaria Detection/Dataset/Test',\n",
    "                                            target_size = (224, 224),\n",
    "                                            batch_size = 32,\n",
    "                                            class_mode = 'categorical')"
   ]
  },
  {
   "cell_type": "code",
   "execution_count": 76,
   "metadata": {},
   "outputs": [
    {
     "name": "stderr",
     "output_type": "stream",
     "text": [
      "C:\\Users\\Paresh\\anaconda3\\lib\\site-packages\\tensorflow\\python\\keras\\engine\\training.py:1940: UserWarning: `Model.fit_generator` is deprecated and will be removed in a future version. Please use `Model.fit`, which supports generators.\n",
      "  warnings.warn('`Model.fit_generator` is deprecated and '\n"
     ]
    },
    {
     "name": "stdout",
     "output_type": "stream",
     "text": [
      "Epoch 1/50\n",
      "13/13 [==============================] - 18s 1s/step - loss: 1.2951 - accuracy: 0.5889 - val_loss: 0.8170 - val_accuracy: 0.6791\n",
      "Epoch 2/50\n",
      "13/13 [==============================] - 12s 948ms/step - loss: 0.5329 - accuracy: 0.7500 - val_loss: 0.8976 - val_accuracy: 0.3657\n",
      "Epoch 3/50\n",
      "13/13 [==============================] - 12s 918ms/step - loss: 0.4515 - accuracy: 0.7644 - val_loss: 0.6661 - val_accuracy: 0.5896\n",
      "Epoch 4/50\n",
      "13/13 [==============================] - 13s 977ms/step - loss: 0.3868 - accuracy: 0.8293 - val_loss: 0.7377 - val_accuracy: 0.5149\n",
      "Epoch 5/50\n",
      "13/13 [==============================] - 15s 1s/step - loss: 0.3246 - accuracy: 0.8702 - val_loss: 0.6769 - val_accuracy: 0.6045\n",
      "Epoch 6/50\n",
      "13/13 [==============================] - 13s 1s/step - loss: 0.2605 - accuracy: 0.8942 - val_loss: 0.5808 - val_accuracy: 0.7015\n",
      "Epoch 7/50\n",
      "13/13 [==============================] - 13s 995ms/step - loss: 0.2241 - accuracy: 0.8990 - val_loss: 0.4800 - val_accuracy: 0.7612\n",
      "Epoch 8/50\n",
      "13/13 [==============================] - 13s 987ms/step - loss: 0.1677 - accuracy: 0.9375 - val_loss: 0.4383 - val_accuracy: 0.7910\n",
      "Epoch 9/50\n",
      "13/13 [==============================] - 13s 994ms/step - loss: 0.1827 - accuracy: 0.9327 - val_loss: 0.4532 - val_accuracy: 0.7985\n",
      "Epoch 10/50\n",
      "13/13 [==============================] - 13s 998ms/step - loss: 0.1816 - accuracy: 0.9375 - val_loss: 0.8733 - val_accuracy: 0.6866\n",
      "Epoch 11/50\n",
      "13/13 [==============================] - 13s 989ms/step - loss: 0.1476 - accuracy: 0.9471 - val_loss: 0.3461 - val_accuracy: 0.8284\n",
      "Epoch 12/50\n",
      "13/13 [==============================] - 13s 996ms/step - loss: 0.1272 - accuracy: 0.9591 - val_loss: 0.3678 - val_accuracy: 0.8134\n",
      "Epoch 13/50\n",
      "13/13 [==============================] - 13s 996ms/step - loss: 0.0965 - accuracy: 0.9639 - val_loss: 0.3409 - val_accuracy: 0.8582\n",
      "Epoch 14/50\n",
      "13/13 [==============================] - 14s 1s/step - loss: 0.1046 - accuracy: 0.9688 - val_loss: 0.3934 - val_accuracy: 0.8433\n",
      "Epoch 15/50\n",
      "13/13 [==============================] - 14s 1s/step - loss: 0.1070 - accuracy: 0.9663 - val_loss: 0.3492 - val_accuracy: 0.8507\n",
      "Epoch 16/50\n",
      "13/13 [==============================] - 15s 1s/step - loss: 0.0841 - accuracy: 0.9736 - val_loss: 0.3540 - val_accuracy: 0.8657\n",
      "Epoch 17/50\n",
      "13/13 [==============================] - 15s 1s/step - loss: 0.0851 - accuracy: 0.9688 - val_loss: 0.2978 - val_accuracy: 0.8881\n",
      "Epoch 18/50\n",
      "13/13 [==============================] - 13s 996ms/step - loss: 0.0870 - accuracy: 0.9712 - val_loss: 0.3524 - val_accuracy: 0.8507\n",
      "Epoch 19/50\n",
      "13/13 [==============================] - 13s 1s/step - loss: 0.0859 - accuracy: 0.9784 - val_loss: 0.2531 - val_accuracy: 0.9179\n",
      "Epoch 20/50\n",
      "13/13 [==============================] - 13s 999ms/step - loss: 0.0875 - accuracy: 0.9784 - val_loss: 0.3450 - val_accuracy: 0.8881\n",
      "Epoch 21/50\n",
      "13/13 [==============================] - 13s 993ms/step - loss: 0.0717 - accuracy: 0.9808 - val_loss: 0.2882 - val_accuracy: 0.9179\n",
      "Epoch 22/50\n",
      "13/13 [==============================] - 13s 982ms/step - loss: 0.0936 - accuracy: 0.9712 - val_loss: 0.6627 - val_accuracy: 0.8209\n",
      "Epoch 23/50\n",
      "13/13 [==============================] - 13s 991ms/step - loss: 0.1370 - accuracy: 0.9495 - val_loss: 0.2807 - val_accuracy: 0.8806\n",
      "Epoch 24/50\n",
      "13/13 [==============================] - 13s 998ms/step - loss: 0.0833 - accuracy: 0.9808 - val_loss: 0.2565 - val_accuracy: 0.9030\n",
      "Epoch 25/50\n",
      "13/13 [==============================] - 13s 1s/step - loss: 0.0593 - accuracy: 0.9856 - val_loss: 0.2097 - val_accuracy: 0.9254\n",
      "Epoch 26/50\n",
      "13/13 [==============================] - 13s 992ms/step - loss: 0.0514 - accuracy: 0.9880 - val_loss: 0.3156 - val_accuracy: 0.9179\n",
      "Epoch 27/50\n",
      "13/13 [==============================] - 13s 991ms/step - loss: 0.0405 - accuracy: 0.9904 - val_loss: 0.2808 - val_accuracy: 0.9030\n",
      "Epoch 28/50\n",
      "13/13 [==============================] - 13s 997ms/step - loss: 0.0463 - accuracy: 0.9904 - val_loss: 0.3274 - val_accuracy: 0.8955\n",
      "Epoch 29/50\n",
      "13/13 [==============================] - 13s 992ms/step - loss: 0.0595 - accuracy: 0.9856 - val_loss: 0.3706 - val_accuracy: 0.8806\n",
      "Epoch 30/50\n",
      "13/13 [==============================] - 14s 1s/step - loss: 0.0512 - accuracy: 0.9856 - val_loss: 0.4476 - val_accuracy: 0.8881\n",
      "Epoch 31/50\n",
      "13/13 [==============================] - 13s 999ms/step - loss: 0.0421 - accuracy: 0.9904 - val_loss: 0.4132 - val_accuracy: 0.8806\n",
      "Epoch 32/50\n",
      "13/13 [==============================] - 13s 982ms/step - loss: 0.0694 - accuracy: 0.9784 - val_loss: 0.3289 - val_accuracy: 0.8806\n",
      "Epoch 33/50\n",
      "13/13 [==============================] - 14s 1s/step - loss: 0.1239 - accuracy: 0.9543 - val_loss: 0.2764 - val_accuracy: 0.8806\n",
      "Epoch 34/50\n",
      "13/13 [==============================] - 14s 1s/step - loss: 0.0691 - accuracy: 0.9856 - val_loss: 0.2153 - val_accuracy: 0.9104\n",
      "Epoch 35/50\n",
      "13/13 [==============================] - 14s 1s/step - loss: 0.0365 - accuracy: 0.9928 - val_loss: 0.2170 - val_accuracy: 0.9179\n",
      "Epoch 36/50\n",
      "13/13 [==============================] - 13s 993ms/step - loss: 0.0791 - accuracy: 0.9808 - val_loss: 0.2312 - val_accuracy: 0.8881\n",
      "Epoch 37/50\n",
      "13/13 [==============================] - 13s 1s/step - loss: 0.1151 - accuracy: 0.9639 - val_loss: 0.3739 - val_accuracy: 0.8657\n",
      "Epoch 38/50\n",
      "13/13 [==============================] - 13s 1s/step - loss: 0.0588 - accuracy: 0.9808 - val_loss: 0.2012 - val_accuracy: 0.9254\n",
      "Epoch 39/50\n",
      "13/13 [==============================] - 15s 1s/step - loss: 0.0411 - accuracy: 0.9856 - val_loss: 0.2295 - val_accuracy: 0.9179\n",
      "Epoch 40/50\n",
      "13/13 [==============================] - 13s 1s/step - loss: 0.0363 - accuracy: 0.9904 - val_loss: 0.2285 - val_accuracy: 0.9254\n",
      "Epoch 41/50\n",
      "13/13 [==============================] - 13s 1s/step - loss: 0.0270 - accuracy: 0.9928 - val_loss: 0.2923 - val_accuracy: 0.9179\n",
      "Epoch 42/50\n",
      "13/13 [==============================] - 13s 995ms/step - loss: 0.0260 - accuracy: 0.9880 - val_loss: 0.2513 - val_accuracy: 0.9403\n",
      "Epoch 43/50\n",
      "13/13 [==============================] - 13s 1s/step - loss: 0.0184 - accuracy: 0.9952 - val_loss: 0.3049 - val_accuracy: 0.9254\n",
      "Epoch 44/50\n",
      "13/13 [==============================] - 13s 1s/step - loss: 0.0121 - accuracy: 0.9976 - val_loss: 0.3520 - val_accuracy: 0.8955\n",
      "Epoch 45/50\n",
      "13/13 [==============================] - 13s 1s/step - loss: 0.0286 - accuracy: 0.9904 - val_loss: 0.3476 - val_accuracy: 0.8881\n",
      "Epoch 46/50\n",
      "13/13 [==============================] - 13s 1s/step - loss: 0.0678 - accuracy: 0.9712 - val_loss: 0.2761 - val_accuracy: 0.8955\n",
      "Epoch 47/50\n",
      "13/13 [==============================] - 13s 993ms/step - loss: 0.0685 - accuracy: 0.9760 - val_loss: 0.3276 - val_accuracy: 0.8657\n",
      "Epoch 48/50\n",
      "13/13 [==============================] - 13s 999ms/step - loss: 0.0518 - accuracy: 0.9904 - val_loss: 0.2401 - val_accuracy: 0.9179\n",
      "Epoch 49/50\n",
      "13/13 [==============================] - 13s 991ms/step - loss: 0.0213 - accuracy: 0.9952 - val_loss: 0.2970 - val_accuracy: 0.9254\n",
      "Epoch 50/50\n",
      "13/13 [==============================] - 13s 999ms/step - loss: 0.0668 - accuracy: 0.9928 - val_loss: 0.2573 - val_accuracy: 0.9328\n"
     ]
    }
   ],
   "source": [
    "# fit the model\n",
    "# Run the cell. It will take some time to execute\n",
    "r = model.fit_generator(\n",
    "  training_set,\n",
    "  validation_data=test_set,\n",
    "  epochs=50,\n",
    "  steps_per_epoch=len(training_set),\n",
    "  validation_steps=len(test_set)\n",
    ")"
   ]
  },
  {
   "cell_type": "code",
   "execution_count": 77,
   "metadata": {},
   "outputs": [
    {
     "data": {
      "image/png": "[encoded data removed]",
      "text/plain": [
       "<Figure size 432x288 with 1 Axes>"
      ]
     },
     "metadata": {
      "needs_background": "light"
     },
     "output_type": "display_data"
    },
    {
     "data": {
      "image/png": "[encoded data removed]",
      "text/plain": [
       "<Figure size 432x288 with 1 Axes>"
      ]
     },
     "metadata": {
      "needs_background": "light"
     },
     "output_type": "display_data"
    },
    {
     "data": {
      "text/plain": [
       "<Figure size 432x288 with 0 Axes>"
      ]
     },
     "metadata": {},
     "output_type": "display_data"
    }
   ],
   "source": [
    "# plot the loss\n",
    "plt.plot(r.history['loss'], label='train loss')\n",
    "plt.plot(r.history['val_loss'], label='val loss')\n",
    "plt.legend()\n",
    "plt.show()\n",
    "plt.savefig('LossVal_loss')\n",
    "\n",
    "# plot the accuracy\n",
    "plt.plot(r.history['accuracy'], label='train acc')\n",
    "plt.plot(r.history['val_accuracy'], label='val acc')\n",
    "plt.legend()\n",
    "plt.show()\n",
    "plt.savefig('AccVal_acc')"
   ]
  },
  {
   "cell_type": "code",
   "execution_count": 78,
   "metadata": {},
   "outputs": [],
   "source": [
    "# save it as a h5 file\n",
    "\n",
    "\n",
    "from tensorflow.keras.models import load_model\n",
    "\n",
    "model.save('model_vgg19.h5')"
   ]
  },
  {
   "cell_type": "code",
   "execution_count": null,
   "metadata": {},
   "outputs": [],
   "source": []
  },
  {
   "cell_type": "code",
   "execution_count": 79,
   "metadata": {},
   "outputs": [],
   "source": [
    "y_pred = model.predict(test_set)"
   ]
  },
  {
   "cell_type": "code",
   "execution_count": 80,
   "metadata": {},
   "outputs": [
    {
     "data": {
      "text/plain": [
       "array([[9.98390675e-01, 1.60933356e-03],\n",
       "       [1.00000000e+00, 2.64441205e-18],\n",
       "       [1.00000000e+00, 9.10476520e-29],\n",
       "       [1.00000000e+00, 0.00000000e+00],\n",
       "       [8.77406955e-01, 1.22593060e-01],\n",
       "       [9.99922752e-01, 7.72586791e-05],\n",
       "       [9.99999881e-01, 6.38941415e-08],\n",
       "       [6.43003685e-03, 9.93569970e-01],\n",
       "       [1.00000000e+00, 4.03448400e-15],\n",
       "       [1.04804775e-02, 9.89519477e-01],\n",
       "       [2.24383711e-03, 9.97756183e-01],\n",
       "       [7.45563162e-03, 9.92544413e-01],\n",
       "       [1.00000000e+00, 1.02663581e-11],\n",
       "       [1.45816222e-01, 8.54183853e-01],\n",
       "       [9.99984384e-01, 1.56350325e-05],\n",
       "       [9.99998927e-01, 1.07915594e-06],\n",
       "       [5.25236838e-02, 9.47476387e-01],\n",
       "       [1.00000000e+00, 1.35330025e-10],\n",
       "       [5.89461578e-03, 9.94105339e-01],\n",
       "       [1.00000000e+00, 5.66198202e-19],\n",
       "       [7.41947442e-02, 9.25805211e-01],\n",
       "       [3.19460849e-03, 9.96805429e-01],\n",
       "       [9.99620557e-01, 3.79378966e-04],\n",
       "       [9.99999523e-01, 5.32075148e-07],\n",
       "       [1.00000000e+00, 7.17806576e-25],\n",
       "       [1.00000000e+00, 1.46471203e-11],\n",
       "       [4.79920534e-03, 9.95200753e-01],\n",
       "       [1.00000000e+00, 1.74332948e-09],\n",
       "       [1.00000000e+00, 3.99512472e-11],\n",
       "       [2.69036414e-03, 9.97309685e-01],\n",
       "       [1.00000000e+00, 1.90749630e-12],\n",
       "       [1.00000000e+00, 3.05677906e-25],\n",
       "       [2.92648305e-03, 9.97073531e-01],\n",
       "       [9.99951243e-01, 4.88003279e-05],\n",
       "       [1.00000000e+00, 8.48290844e-16],\n",
       "       [1.38831334e-02, 9.86116827e-01],\n",
       "       [1.00000000e+00, 4.62592586e-09],\n",
       "       [9.99999881e-01, 9.53006278e-08],\n",
       "       [1.00000000e+00, 2.68754352e-09],\n",
       "       [2.20882078e-03, 9.97791171e-01],\n",
       "       [3.24647571e-03, 9.96753514e-01],\n",
       "       [1.00000000e+00, 1.59265401e-09],\n",
       "       [5.60640637e-03, 9.94393587e-01],\n",
       "       [2.14144820e-03, 9.97858584e-01],\n",
       "       [1.00000000e+00, 1.55279986e-15],\n",
       "       [1.00000000e+00, 0.00000000e+00],\n",
       "       [1.00000000e+00, 1.87964785e-15],\n",
       "       [3.59318443e-02, 9.64068174e-01],\n",
       "       [1.00000000e+00, 4.21681890e-19],\n",
       "       [1.00000000e+00, 4.63886223e-16],\n",
       "       [7.46735930e-03, 9.92532670e-01],\n",
       "       [1.00000000e+00, 0.00000000e+00],\n",
       "       [8.21009994e-01, 1.78989977e-01],\n",
       "       [1.17731765e-02, 9.88226831e-01],\n",
       "       [1.00000000e+00, 4.17356771e-09],\n",
       "       [5.27054816e-03, 9.94729459e-01],\n",
       "       [8.85305647e-03, 9.91146982e-01],\n",
       "       [9.99997854e-01, 2.10055259e-06],\n",
       "       [1.00000000e+00, 2.07742934e-10],\n",
       "       [1.00000000e+00, 8.59622720e-11],\n",
       "       [9.04890336e-03, 9.90951061e-01],\n",
       "       [5.83972991e-01, 4.16027009e-01],\n",
       "       [2.00820598e-03, 9.97991800e-01],\n",
       "       [1.00000000e+00, 3.43293384e-12],\n",
       "       [1.00000000e+00, 0.00000000e+00],\n",
       "       [1.00000000e+00, 1.53213156e-20],\n",
       "       [1.00000000e+00, 5.76257513e-08],\n",
       "       [1.23704590e-01, 8.76295447e-01],\n",
       "       [1.00000000e+00, 7.74843297e-12],\n",
       "       [9.99998808e-01, 1.22985978e-06],\n",
       "       [9.96180058e-01, 3.81991733e-03],\n",
       "       [5.73131721e-03, 9.94268656e-01],\n",
       "       [9.99999881e-01, 1.45559397e-07],\n",
       "       [1.00000000e+00, 3.30680265e-08],\n",
       "       [2.66274973e-03, 9.97337282e-01],\n",
       "       [9.99998331e-01, 1.67955841e-06],\n",
       "       [1.00000000e+00, 1.27568588e-16],\n",
       "       [2.87372991e-02, 9.71262634e-01],\n",
       "       [6.76888227e-03, 9.93231177e-01],\n",
       "       [3.74286110e-03, 9.96257186e-01],\n",
       "       [1.00000000e+00, 1.36054028e-27],\n",
       "       [1.86030753e-03, 9.98139739e-01],\n",
       "       [4.00552042e-02, 9.59944785e-01],\n",
       "       [1.11559229e-02, 9.88844156e-01],\n",
       "       [1.00000000e+00, 1.24116398e-14],\n",
       "       [8.01654816e-01, 1.98345229e-01],\n",
       "       [1.72791425e-02, 9.82720792e-01],\n",
       "       [9.99999762e-01, 2.59567116e-07],\n",
       "       [9.99999285e-01, 6.71689804e-07],\n",
       "       [1.00000000e+00, 6.43223495e-12],\n",
       "       [5.15187383e-01, 4.84812528e-01],\n",
       "       [1.00000000e+00, 2.56836969e-08],\n",
       "       [1.00000000e+00, 0.00000000e+00],\n",
       "       [5.45068365e-03, 9.94549334e-01],\n",
       "       [5.74240983e-01, 4.25759047e-01],\n",
       "       [2.34921742e-03, 9.97650802e-01],\n",
       "       [1.00000000e+00, 2.53750254e-20],\n",
       "       [1.00000000e+00, 1.99684410e-12],\n",
       "       [1.00000000e+00, 6.86239799e-28],\n",
       "       [5.75662311e-03, 9.94243324e-01],\n",
       "       [1.00000000e+00, 4.49169590e-10],\n",
       "       [1.00000000e+00, 1.48251067e-09],\n",
       "       [1.00000000e+00, 2.93388369e-10],\n",
       "       [1.00000000e+00, 9.20722498e-10],\n",
       "       [1.20281018e-02, 9.87971961e-01],\n",
       "       [4.11123544e-01, 5.88876486e-01],\n",
       "       [1.07141975e-02, 9.89285767e-01],\n",
       "       [1.00000000e+00, 2.30759786e-10],\n",
       "       [4.84660314e-03, 9.95153427e-01],\n",
       "       [7.03104166e-03, 9.92968976e-01],\n",
       "       [3.35495807e-02, 9.66450453e-01],\n",
       "       [8.03961139e-03, 9.91960347e-01],\n",
       "       [1.00000000e+00, 1.62961367e-10],\n",
       "       [1.00000000e+00, 1.37831402e-09],\n",
       "       [1.00000000e+00, 2.16917018e-09],\n",
       "       [1.00000000e+00, 4.76381545e-18],\n",
       "       [9.99781668e-01, 2.18305955e-04],\n",
       "       [2.32344540e-03, 9.97676551e-01],\n",
       "       [1.00000000e+00, 2.04325142e-15],\n",
       "       [1.00000000e+00, 5.34591165e-12],\n",
       "       [2.09301367e-01, 7.90698647e-01],\n",
       "       [8.66305172e-01, 1.33694857e-01],\n",
       "       [5.56394458e-01, 4.43605542e-01],\n",
       "       [1.00000000e+00, 2.64562483e-09],\n",
       "       [6.73834793e-03, 9.93261635e-01],\n",
       "       [1.09433802e-02, 9.89056647e-01],\n",
       "       [1.00000000e+00, 4.79325688e-17],\n",
       "       [2.38950700e-02, 9.76104975e-01],\n",
       "       [1.74476497e-03, 9.98255193e-01],\n",
       "       [2.47098436e-03, 9.97529089e-01],\n",
       "       [4.05944744e-03, 9.95940566e-01],\n",
       "       [1.00000000e+00, 5.11595211e-09],\n",
       "       [1.00000000e+00, 1.48553496e-11],\n",
       "       [1.00000000e+00, 3.01970116e-11]], dtype=float32)"
      ]
     },
     "execution_count": 80,
     "metadata": {},
     "output_type": "execute_result"
    }
   ],
   "source": [
    "y_pred"
   ]
  },
  {
   "cell_type": "code",
   "execution_count": 81,
   "metadata": {},
   "outputs": [],
   "source": [
    "import numpy as np\n",
    "y_pred = np.argmax(y_pred, axis=1)"
   ]
  },
  {
   "cell_type": "code",
   "execution_count": 82,
   "metadata": {},
   "outputs": [
    {
     "data": {
      "text/plain": [
       "array([0, 0, 0, 0, 0, 0, 0, 1, 0, 1, 1, 1, 0, 1, 0, 0, 1, 0, 1, 0, 1, 1,\n",
       "       0, 0, 0, 0, 1, 0, 0, 1, 0, 0, 1, 0, 0, 1, 0, 0, 0, 1, 1, 0, 1, 1,\n",
       "       0, 0, 0, 1, 0, 0, 1, 0, 0, 1, 0, 1, 1, 0, 0, 0, 1, 0, 1, 0, 0, 0,\n",
       "       0, 1, 0, 0, 0, 1, 0, 0, 1, 0, 0, 1, 1, 1, 0, 1, 1, 1, 0, 0, 1, 0,\n",
       "       0, 0, 0, 0, 0, 1, 0, 1, 0, 0, 0, 1, 0, 0, 0, 0, 1, 1, 1, 0, 1, 1,\n",
       "       1, 1, 0, 0, 0, 0, 0, 1, 0, 0, 1, 0, 0, 0, 1, 1, 0, 1, 1, 1, 1, 0,\n",
       "       0, 0], dtype=int64)"
      ]
     },
     "execution_count": 82,
     "metadata": {},
     "output_type": "execute_result"
    }
   ],
   "source": [
    "y_pred"
   ]
  },
  {
   "cell_type": "code",
   "execution_count": null,
   "metadata": {},
   "outputs": [],
   "source": []
  },
  {
   "cell_type": "code",
   "execution_count": 83,
   "metadata": {},
   "outputs": [],
   "source": [
    "from tensorflow.keras.models import load_model\n",
    "from tensorflow.keras.preprocessing import image"
   ]
  },
  {
   "cell_type": "code",
   "execution_count": 84,
   "metadata": {},
   "outputs": [],
   "source": [
    "model=load_model('model_vgg19.h5')"
   ]
  },
  {
   "cell_type": "code",
   "execution_count": null,
   "metadata": {},
   "outputs": [],
   "source": []
  },
  {
   "cell_type": "code",
   "execution_count": 86,
   "metadata": {},
   "outputs": [],
   "source": [
    "img=image.load_img('D:/Imarticus learning/Project/Image Classification/Malaria Detection/Dataset/Test/Uninfected/2.png',target_size=(224,224))"
   ]
  },
  {
   "cell_type": "code",
   "execution_count": 87,
   "metadata": {},
   "outputs": [
    {
     "data": {
      "text/plain": [
       "array([[[0., 0., 0.],\n",
       "        [0., 0., 0.],\n",
       "        [0., 0., 0.],\n",
       "        ...,\n",
       "        [0., 0., 0.],\n",
       "        [0., 0., 0.],\n",
       "        [0., 0., 0.]],\n",
       "\n",
       "       [[0., 0., 0.],\n",
       "        [0., 0., 0.],\n",
       "        [0., 0., 0.],\n",
       "        ...,\n",
       "        [0., 0., 0.],\n",
       "        [0., 0., 0.],\n",
       "        [0., 0., 0.]],\n",
       "\n",
       "       [[0., 0., 0.],\n",
       "        [0., 0., 0.],\n",
       "        [0., 0., 0.],\n",
       "        ...,\n",
       "        [0., 0., 0.],\n",
       "        [0., 0., 0.],\n",
       "        [0., 0., 0.]],\n",
       "\n",
       "       ...,\n",
       "\n",
       "       [[0., 0., 0.],\n",
       "        [0., 0., 0.],\n",
       "        [0., 0., 0.],\n",
       "        ...,\n",
       "        [0., 0., 0.],\n",
       "        [0., 0., 0.],\n",
       "        [0., 0., 0.]],\n",
       "\n",
       "       [[0., 0., 0.],\n",
       "        [0., 0., 0.],\n",
       "        [0., 0., 0.],\n",
       "        ...,\n",
       "        [0., 0., 0.],\n",
       "        [0., 0., 0.],\n",
       "        [0., 0., 0.]],\n",
       "\n",
       "       [[0., 0., 0.],\n",
       "        [0., 0., 0.],\n",
       "        [0., 0., 0.],\n",
       "        ...,\n",
       "        [0., 0., 0.],\n",
       "        [0., 0., 0.],\n",
       "        [0., 0., 0.]]], dtype=float32)"
      ]
     },
     "execution_count": 87,
     "metadata": {},
     "output_type": "execute_result"
    }
   ],
   "source": [
    "x=image.img_to_array(img)\n",
    "x"
   ]
  },
  {
   "cell_type": "code",
   "execution_count": 88,
   "metadata": {},
   "outputs": [
    {
     "data": {
      "text/plain": [
       "(224, 224, 3)"
      ]
     },
     "execution_count": 88,
     "metadata": {},
     "output_type": "execute_result"
    }
   ],
   "source": [
    "x.shape"
   ]
  },
  {
   "cell_type": "code",
   "execution_count": 89,
   "metadata": {},
   "outputs": [],
   "source": [
    "x=x/255"
   ]
  },
  {
   "cell_type": "code",
   "execution_count": 90,
   "metadata": {},
   "outputs": [
    {
     "data": {
      "text/plain": [
       "(1, 224, 224, 3)"
      ]
     },
     "execution_count": 90,
     "metadata": {},
     "output_type": "execute_result"
    }
   ],
   "source": [
    "x=np.expand_dims(x,axis=0)\n",
    "img_data=preprocess_input(x)\n",
    "img_data.shape"
   ]
  },
  {
   "cell_type": "code",
   "execution_count": 91,
   "metadata": {},
   "outputs": [
    {
     "data": {
      "text/plain": [
       "array([[0., 1.]], dtype=float32)"
      ]
     },
     "execution_count": 91,
     "metadata": {},
     "output_type": "execute_result"
    }
   ],
   "source": [
    "model.predict(img_data)"
   ]
  },
  {
   "cell_type": "code",
   "execution_count": 92,
   "metadata": {},
   "outputs": [],
   "source": [
    "a=np.argmax(model.predict(img_data), axis=1)"
   ]
  },
  {
   "cell_type": "code",
   "execution_count": 93,
   "metadata": {},
   "outputs": [
    {
     "name": "stdout",
     "output_type": "stream",
     "text": [
      "Uninfected\n"
     ]
    }
   ],
   "source": [
    "if(a==1):\n",
    "    print(\"Uninfected\")\n",
    "else:\n",
    "    print(\"Infected\")"
   ]
  },
  {
   "cell_type": "code",
   "execution_count": null,
   "metadata": {},
   "outputs": [],
   "source": []
  }
 ],
 "metadata": {
  "kernelspec": {
   "display_name": "Python 3",
   "language": "python",
   "name": "python3"
  },
  "language_info": {
   "codemirror_mode": {
    "name": "ipython",
    "version": 3
   },
   "file_extension": ".py",
   "mimetype": "text/x-python",
   "name": "python",
   "nbconvert_exporter": "python",
   "pygments_lexer": "ipython3",
   "version": "3.8.5"
  }
 },
 "nbformat": 4,
 "nbformat_minor": 4
}
